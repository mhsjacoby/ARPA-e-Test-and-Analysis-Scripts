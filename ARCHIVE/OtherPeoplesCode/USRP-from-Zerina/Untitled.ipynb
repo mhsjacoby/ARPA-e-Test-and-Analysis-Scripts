{
 "cells": [
  {
   "cell_type": "code",
   "execution_count": 1,
   "metadata": {},
   "outputs": [],
   "source": [
    "import os\n",
    "import sys\n",
    "import csv\n",
    "import ast\n",
    "import json\n",
    "from datetime import datetime\n",
    "import numpy as np\n",
    "import pandas as pd"
   ]
  },
  {
   "cell_type": "code",
   "execution_count": 2,
   "metadata": {},
   "outputs": [],
   "source": [
    "class HomeOccupancy():\n",
    "    def __init__(self, path, freq = 5):\n",
    "        self.ground_path = os.path.join(path, 'GroundTruth')\n",
    "        self.write_dir = os.path.join(path, 'Full_Occupancy_Files')\n",
    "        self.home = path.split('/')[-1].split('-')[-2]\n",
    "        self.system = path.split('/')[-1].split('-')[-1]\n",
    "        self.occupant_names = []\n",
    "\n",
    "    def mylistdir(self, directory):\n",
    "        filelist = os.listdir(directory)\n",
    "        return [x for x in filelist if x.endswith('.csv')]\n",
    "\n",
    "    def make_storage_directory(self, target_dir):\n",
    "        if not os.path.exists(target_dir):\n",
    "            os.makedirs(target_dir)\n",
    "        return target_dir\n",
    "\n",
    "    def get_ground_truth(self):\n",
    "        occupant_files = self.mylistdir(self.ground_path)\n",
    "        occupants = {}\n",
    "        for occ in occupant_files:\n",
    "            #occupant_name = occ.strip('.csv').split('-')[1] ## H3\n",
    "            occupant_name = occ.strip('.csv').split('-')[0]  ## H1, H3-round2\n",
    "            self.occupant_names.append(occupant_name)\n",
    "            ishome = []\n",
    "            with open(os.path.join(ground_path, occ)) as csv_file:\n",
    "                csv_reader = csv.reader(csv_file, delimiter=',')\n",
    "                for row in csv_reader:\n",
    "                    status, when = row[1], row[2].split('at')\n",
    "                    #print(status, when)\n",
    "                    dt_day = datetime.strptime(str(when[0] + when[1]), '%B %d, %Y  %I:%M%p')\n",
    "                    ishome.append((status, dt_day))\n",
    "            occupants[occupant_name] = ishome\n",
    "        return occupants\n",
    "\n",
    "    def main(self):\n",
    "        occupancy = self.get_ground_truth()\n",
    "        print(self.system)\n",
    "        print(self.home)\n",
    "        print(self.occupant_names)"
   ]
  },
  {
   "cell_type": "code",
   "execution_count": null,
   "metadata": {},
   "outputs": [],
   "source": [
    "path = '/Users/maggie/Desktop/HPD_mobile_data/HPD_mobile-H3/H3-red'\n"
   ]
  }
 ],
 "metadata": {
  "kernelspec": {
   "display_name": "Python 3",
   "language": "python",
   "name": "python3"
  },
  "language_info": {
   "codemirror_mode": {
    "name": "ipython",
    "version": 3
   },
   "file_extension": ".py",
   "mimetype": "text/x-python",
   "name": "python",
   "nbconvert_exporter": "python",
   "pygments_lexer": "ipython3",
   "version": "3.7.1"
  }
 },
 "nbformat": 4,
 "nbformat_minor": 2
}
