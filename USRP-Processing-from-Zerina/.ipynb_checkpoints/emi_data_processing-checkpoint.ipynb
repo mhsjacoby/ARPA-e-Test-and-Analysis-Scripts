{
 "cells": [
  {
   "cell_type": "code",
   "execution_count": null,
   "metadata": {},
   "outputs": [],
   "source": [
    "import numpy as np\n",
    "import matplotlib.pyplot as plt\n",
    "from scipy.signal import medfilt\n",
    "from scipy.io import loadmat"
   ]
  },
  {
   "cell_type": "markdown",
   "metadata": {},
   "source": [
    "# Parameters"
   ]
  },
  {
   "cell_type": "code",
   "execution_count": null,
   "metadata": {},
   "outputs": [],
   "source": [
    "fft_size = 2048\n",
    "fs = 2e6;\n",
    "num_avg_window = 25"
   ]
  },
  {
   "cell_type": "markdown",
   "metadata": {},
   "source": [
    "# Load & Reshape data"
   ]
  },
  {
   "cell_type": "code",
   "execution_count": null,
   "metadata": {},
   "outputs": [],
   "source": [
    "### Read in binary file ###\n",
    "def fread(fid, dtype):\n",
    "    if dtype is np.str:\n",
    "        dt = np.uint8  # WARNING: assuming 8-bit ASCII for np.str!\n",
    "    else:\n",
    "        dt = dtype\n",
    "        \n",
    "    data_array = np.fromfile(fid, dt)\n",
    "    #data_array.shape = (nelements, 1)\n",
    "\n",
    "    return data_array\n",
    "\n",
    "fid = open('lights_A.bin', 'rb');\n",
    "x =  fread(fid, 'single')\n",
    "\n",
    "### Reshape data ###\n",
    "T = int(len(x)/fft_size);\n",
    "data = np.reshape(x, (fft_size,T), order=\"F\")\n",
    "\n",
    "### Get time ###\n",
    "time_per_samp = len(x)*(1/fs)\n",
    "bin_duration = fft_size*(1/fs)\n",
    "step_size = time_per_samp-(1/fs)\n",
    "time = np.arange(0, step_size, bin_duration)"
   ]
  },
  {
   "cell_type": "code",
   "execution_count": null,
   "metadata": {},
   "outputs": [],
   "source": [
    "plt.figure(figsize = (15,5))\n",
    "plt.plot(data[:,1])\n",
    "plt.show()"
   ]
  },
  {
   "cell_type": "markdown",
   "metadata": {},
   "source": [
    "# Compute Averaged Frames"
   ]
  },
  {
   "cell_type": "code",
   "execution_count": null,
   "metadata": {},
   "outputs": [],
   "source": [
    "spectra_avg = np.zeros((fft_size, int(np.floor(T)/num_avg_window)))\n",
    "count = 0;\n",
    "\n",
    "for i in range(0,T-num_avg_window, num_avg_window):\n",
    "    spectra_avg[:,count] = np.mean(data[:,i:i+num_avg_window-1],axis=1)\n",
    "    count += 1\n",
    "\n",
    "time = range(0, len(time)-num_avg_window, num_avg_window)"
   ]
  },
  {
   "cell_type": "markdown",
   "metadata": {},
   "source": [
    "# Abs & Sum each FFT Bin"
   ]
  },
  {
   "cell_type": "code",
   "execution_count": null,
   "metadata": {},
   "outputs": [],
   "source": [
    "[rows, columns] = np.shape(spectra_avg)\n",
    "signal = np.zeros(columns)\n",
    "\n",
    "\n",
    "for i in range(columns):\n",
    "    signal[i] = np.sum(np.abs(spectra_avg[:,i]))\n",
    "    \n",
    "plt.figure(figsize = (15,5))\n",
    "plt.plot(time, signal)\n",
    "plt.show()"
   ]
  },
  {
   "cell_type": "markdown",
   "metadata": {},
   "source": [
    "# Normalize and Filter Data"
   ]
  },
  {
   "cell_type": "code",
   "execution_count": null,
   "metadata": {},
   "outputs": [],
   "source": [
    "### Testing using 22 hours of data ###\n",
    "x = loadmat('processed_emi.mat')\n",
    "signal = x['signal']\n",
    "signal = signal[0,:]\n",
    "######################################\n",
    "\n",
    "sig_norm = (signal - np.min(signal))/(np.max(signal)-np.min(signal))"
   ]
  },
  {
   "cell_type": "code",
   "execution_count": null,
   "metadata": {},
   "outputs": [],
   "source": [
    "plt.figure(figsize = (15,5))\n",
    "plt.plot(sig_norm)\n",
    "plt.show()"
   ]
  },
  {
   "cell_type": "markdown",
   "metadata": {},
   "source": [
    "sig_norm"
   ]
  },
  {
   "cell_type": "code",
   "execution_count": null,
   "metadata": {},
   "outputs": [],
   "source": [
    "# !!! WINDOW SIZE MUST BE ODD !!! #\n",
    "window_size = 501 \n",
    "sig_filt = medfilt(sig_norm, window_size)\n",
    "\n",
    "plt.figure(figsize = (15,5))\n",
    "plt.plot(sig_filt)\n",
    "plt.show()"
   ]
  },
  {
   "cell_type": "code",
   "execution_count": null,
   "metadata": {},
   "outputs": [],
   "source": [
    "np.savetxt('testsave.txt', sig_filt)"
   ]
  }
 ],
 "metadata": {
  "kernelspec": {
   "display_name": "Python 3",
   "language": "python",
   "name": "python3"
  },
  "language_info": {
   "codemirror_mode": {
    "name": "ipython",
    "version": 3
   },
   "file_extension": ".py",
   "mimetype": "text/x-python",
   "name": "python",
   "nbconvert_exporter": "python",
   "pygments_lexer": "ipython3",
   "version": "3.7.3"
  }
 },
 "nbformat": 4,
 "nbformat_minor": 2
}
