{
 "cells": [
  {
   "cell_type": "code",
   "execution_count": 4,
   "metadata": {},
   "outputs": [],
   "source": [
    "# import numpy as np\n",
    "# import matplotlib.pyplot as plt\n",
    "# from datetime import datetime\n",
    "# from datetime import time\n",
    "import pandas as pd\n",
    "import os"
   ]
  },
  {
   "cell_type": "code",
   "execution_count": 23,
   "metadata": {},
   "outputs": [],
   "source": [
    "file_loc = '/Users/maggie/Documents/USRP_data/H6-documentation/USRP_H6_Dec6-Dec11.csv' ##This is the USRP csv with time/signal at the subsecond frequency\n",
    "occ_loc = '/Users/maggie/Documents/USRP_data/H6-documentation/H6-black-Occupancy_df_10S.csv' ##occupancy csv at thee 10 seecond frequency\n",
    "write_dir = '/Users/maggie/Documents/USRP_data/H6-documentation/'"
   ]
  },
  {
   "cell_type": "code",
   "execution_count": 8,
   "metadata": {},
   "outputs": [
    {
     "name": "stdout",
     "output_type": "stream",
     "text": [
      "                     signal mean  signal diff\n",
      "timestamp                                    \n",
      "2019-12-06 18:14:50     0.955349     0.007435\n",
      "2019-12-06 18:15:00     0.958838     0.000572\n",
      "2019-12-06 18:15:10     0.959277     0.000558\n",
      "2019-12-06 18:15:20     0.959294     0.000972\n",
      "2019-12-06 18:15:30     0.958846     0.000346\n"
     ]
    }
   ],
   "source": [
    "df = pd.read_csv(file_loc, header = None, names = ['time', 'signal'])\n",
    "df['timestamp'] = pd.to_datetime(df['time'], format = '%Y-%m-%d %H:%M:%S.%f')\n",
    "df['timestamp']= df['timestamp'].dt.floor('1S')\n",
    "df['timestamp']= df['timestamp'].dt.ceil('10S')\n",
    "df = df.drop(columns = ['time'])\n",
    "\n",
    "df_g = df.groupby('timestamp')\n",
    "df_mean = df_g.mean()\n",
    "df_diff = df_g.max() - df_g.min()\n",
    "df_mean = df_mean.rename(columns = {'signal':'signal mean'})\n",
    "df_diff = df_diff.rename(columns = {'signal':'signal diff'})\n",
    "\n",
    "new_df = pd.merge(df_mean, df_diff, how = 'outer', on = ['timestamp'])\n",
    "print(new_df.head())"
   ]
  },
  {
   "cell_type": "code",
   "execution_count": 19,
   "metadata": {},
   "outputs": [
    {
     "name": "stdout",
     "output_type": "stream",
     "text": [
      "                     occupied\n",
      "timestamp                    \n",
      "2019-11-03 18:00:00         1\n",
      "2019-11-03 18:00:10         1\n",
      "2019-11-03 18:00:20         1\n",
      "2019-11-03 18:00:30         1\n",
      "2019-11-03 18:00:40         1\n"
     ]
    }
   ],
   "source": [
    "occ_df = pd.read_csv(occ_loc)\n",
    "occ_df['timestamp'] = pd.to_datetime(occ_df['timestamp'], format = '%m/%d/%Y %H:%M:%S')\n",
    "occ_df = occ_df.drop(columns = ['Maggie', 'number'])\n",
    "occ_df = occ_df.set_index('timestamp')\n",
    "\n",
    "print(occ_df.head())"
   ]
  },
  {
   "cell_type": "code",
   "execution_count": 24,
   "metadata": {},
   "outputs": [
    {
     "name": "stdout",
     "output_type": "stream",
     "text": [
      "                     signal mean  signal diff  occupied\n",
      "timestamp                                              \n",
      "2019-12-06 18:14:50     0.955349     0.007435         1\n",
      "2019-12-06 18:15:00     0.958838     0.000572         1\n",
      "2019-12-06 18:15:10     0.959277     0.000558         1\n",
      "2019-12-06 18:15:20     0.959294     0.000972         1\n",
      "2019-12-06 18:15:30     0.958846     0.000346         1\n"
     ]
    }
   ],
   "source": [
    "final_df = pd.merge(new_df, occ_df, how = 'inner', on = ['timestamp'])\n",
    "print(final_df.head())\n",
    "\n",
    "fname = 'H6_USRP_w_occ.csv'\n",
    "fname_store = os.path.join(write_dir, fname)\n",
    "\n",
    "if not os.path.isfile(fname_store):\n",
    "    final_df.to_csv(fname_store, index = True)\n"
   ]
  }
 ],
 "metadata": {
  "kernelspec": {
   "display_name": "Python 3",
   "language": "python",
   "name": "python3"
  },
  "language_info": {
   "codemirror_mode": {
    "name": "ipython",
    "version": 3
   },
   "file_extension": ".py",
   "mimetype": "text/x-python",
   "name": "python",
   "nbconvert_exporter": "python",
   "pygments_lexer": "ipython3",
   "version": "3.7.1"
  }
 },
 "nbformat": 4,
 "nbformat_minor": 2
}
