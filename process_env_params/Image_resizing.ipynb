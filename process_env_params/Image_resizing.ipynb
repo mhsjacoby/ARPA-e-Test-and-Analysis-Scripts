{
 "cells": [
  {
   "cell_type": "code",
   "execution_count": 1,
   "metadata": {},
   "outputs": [],
   "source": [
    "from PIL import Image\n",
    "import numpy as np\n",
    "import os\n",
    "import shutil"
   ]
  },
  {
   "cell_type": "code",
   "execution_count": 2,
   "metadata": {},
   "outputs": [],
   "source": [
    "def maxpooling(array,supersize):\n",
    "    new_a = np.zeros_like(array,dtype=np.float32)\n",
    "    for i in range(np.shape(array)[0]-supersize[0]):\n",
    "        for j in range(np.shape(array)[1]-supersize[1]):\n",
    "            patch = array[i:i+supersize[0],j:j+supersize[1]]\n",
    "            new_a[i:i+supersize[0],j:j+supersize[1]]+=np.max(patch)/(supersize[0]*supersize[1])\n",
    "    new_a = np.rint(new_a).astype(np.uint8)\n",
    "    return new_a\n",
    "\n",
    "def mylistdir(directory, end):\n",
    "    filelist = os.listdir(directory)\n",
    "    return [x for x in filelist if x.endswith(f'{end}')] \n",
    "\n"
   ]
  },
  {
   "cell_type": "code",
   "execution_count": 3,
   "metadata": {},
   "outputs": [],
   "source": [
    "def pool_images(img_folder, pooling_param, target_dir):\n",
    "    filelist = mylistdir(img_folder, '.png')\n",
    "    for image in filelist:\n",
    "        im = Image.open(os.path.join(img_folder, image))\n",
    "        im = np.array(im)\n",
    "        new_im = maxpooling(im, pooling_param)\n",
    "        new_im = Image.fromarray(new_im)\n",
    "\n",
    "        if new_im.mode != 'RGB':\n",
    "            new_im = new_im.convert('RGB')\n",
    "        if not os.path.exists(target_dir):\n",
    "            os.makedirs(target_dir)\n",
    "        new_im.save(os.path.join(target_dir, image))\n"
   ]
  },
  {
   "cell_type": "code",
   "execution_count": 32,
   "metadata": {},
   "outputs": [],
   "source": [
    "def resize_imgs(img_folder, size, target_dir):\n",
    "    filelist = mylistdir(img_folder, '.png')\n",
    "    for image in filelist:\n",
    "        im = Image.open(os.path.join(img_folder, image))\n",
    "        small_img = im.resize(size, Image.BILINEAR)\n",
    "        new_im_name = image.strip('_336.png')+f'_{size[0]}.png'\n",
    "#         print(new_im_name)\n",
    "#         print(image)\n",
    "\n",
    "        if not os.path.exists(target_dir):\n",
    "            os.makedirs(target_dir)\n",
    "        small_img.save(os.path.join(target_dir, new_im_name))"
   ]
  },
  {
   "cell_type": "code",
   "execution_count": 36,
   "metadata": {},
   "outputs": [
    {
     "name": "stdout",
     "output_type": "stream",
     "text": [
      "/Users/maggie/Desktop/Home-blurred_downsized_samples/H6_BS2/H6_BS2_resized/test_data/unoccupied\n",
      "/Users/maggie/Desktop/Home-blurred_downsized_samples/H6_BS2/H6_BS2_original/test_data/unoccupied\n",
      "/Users/maggie/Desktop/Home-blurred_downsized_samples/H6_BS2/H6_BS2_resized/test_data/occupied\n",
      "/Users/maggie/Desktop/Home-blurred_downsized_samples/H6_BS2/H6_BS2_original/test_data/occupied\n",
      "/Users/maggie/Desktop/Home-blurred_downsized_samples/H6_BS2/H6_BS2_resized/train_data/unoccupied\n",
      "/Users/maggie/Desktop/Home-blurred_downsized_samples/H6_BS2/H6_BS2_original/train_data/unoccupied\n",
      "/Users/maggie/Desktop/Home-blurred_downsized_samples/H6_BS2/H6_BS2_resized/train_data/occupied\n",
      "/Users/maggie/Desktop/Home-blurred_downsized_samples/H6_BS2/H6_BS2_original/train_data/occupied\n"
     ]
    }
   ],
   "source": [
    "## Downsize images\n",
    "foldername = '/Users/maggie/Desktop/Home-blurred_downsized_samples/H6_BS2/H6_BS2_original/'\n",
    "# folders = mylistdir(foldername, '')\n",
    "# print(folders)\n",
    "\n",
    "\n",
    "size = (32,32)\n",
    "\n",
    "for tt in mylistdir(foldername, '_data'):\n",
    "    for occ in mylistdir(os.path.join(foldername, tt), 'occupied'):\n",
    "        new_folder = os.path.join(f'/{foldername.strip(\"_original/\")}_resized', tt, occ)\n",
    "        print(new_folder)\n",
    "        print(os.path.join(foldername, tt, occ))\n",
    "        resize_imgs(os.path.join(foldername, tt, occ), size, new_folder)\n"
   ]
  },
  {
   "cell_type": "code",
   "execution_count": null,
   "metadata": {},
   "outputs": [],
   "source": []
  },
  {
   "cell_type": "code",
   "execution_count": null,
   "metadata": {},
   "outputs": [],
   "source": []
  },
  {
   "cell_type": "code",
   "execution_count": 78,
   "metadata": {},
   "outputs": [],
   "source": [
    "## Use max pooling\n",
    "foldername = '/Users/maggie/Desktop/Home-blurred_downsized_samples/HiMax1_even_smaller/'\n",
    "subfolders = mylistdir(foldername, '_img')\n",
    "\n",
    "for param in [[3,3], [5,5], [7,7], [9,9], [11,11], [13,13]]:\n",
    "    for folders in subfolders:\n",
    "        for tt in mylistdir(os.path.join(foldername, folders), '_data'):\n",
    "            for occ in mylistdir(os.path.join(foldername, folders, tt), 'occupied'):\n",
    "                new_folder = os.path.join(foldername, folders.strip('_img')+f'_pooled_{param[0]}', tt, occ)\n",
    "                pool_images(os.path.join(foldername, folders, tt, occ), param, new_folder)"
   ]
  },
  {
   "cell_type": "code",
   "execution_count": 104,
   "metadata": {},
   "outputs": [],
   "source": [
    "pooling_params = [[3,3], [5,5], [7,7]]\n",
    "foldername = '/Users/maggie/Desktop/small_samples/'\n",
    "pool_images(os.path.join(foldername, 'pooled_downsized_images_to_show'), pooling_params)"
   ]
  },
  {
   "cell_type": "code",
   "execution_count": 36,
   "metadata": {},
   "outputs": [],
   "source": [
    "def move_files(folder, critereon):\n",
    "    fs_to_move = [x for x in mylistdir(folder, 'jpg') if x.endswith(f'_pool_{critereon}.jpg')]\n",
    "    for f in fs_to_move:\n",
    "        f_to_move = os.path.join(folder, f)\n",
    "        target_dir = os.path.join(foldername, f'sample_{critereon}')\n",
    "        if not os.path.exists(target_dir):\n",
    "            os.makedirs(target_dir)   \n",
    "        dest = shutil.move(f_to_move, target_dir)"
   ]
  },
  {
   "cell_type": "code",
   "execution_count": 39,
   "metadata": {},
   "outputs": [],
   "source": [
    "P_15 = move_files(os.path.join(foldername, 'pooled'), '15')"
   ]
  },
  {
   "cell_type": "code",
   "execution_count": 80,
   "metadata": {},
   "outputs": [],
   "source": [
    "def copy_files(original_folder, target_dir, crit):\n",
    "    list_to_copy = np.unique(np.array([x.split('_')[0] for x in mylistdir(original_folder, '.jpg')]))\n",
    "    for f in list_to_copy:\n",
    "        f_to_copy = os.path.join(target_dir, f)\n",
    "        dest = shutil.copy(os.path.join(target_dir, f'{f}_{crit}.jpg'), original_folder)\n"
   ]
  },
  {
   "cell_type": "code",
   "execution_count": 83,
   "metadata": {},
   "outputs": [],
   "source": [
    "copy_files(os.path.join(foldername, 'pooled_downsized_images_to_show'), os.path.join(foldername, 'downsized', 'pooled_15'), '15')\n"
   ]
  },
  {
   "cell_type": "markdown",
   "metadata": {},
   "source": [
    "## For downsizing full image datasets"
   ]
  },
  {
   "cell_type": "code",
   "execution_count": null,
   "metadata": {},
   "outputs": [],
   "source": [
    "def mylistdir(directory, start):\n",
    "    filelist = os.listdir(directory)\n",
    "    return [x for x in filelist if x.startswith(f'{start}')] "
   ]
  },
  {
   "cell_type": "code",
   "execution_count": 96,
   "metadata": {},
   "outputs": [],
   "source": [
    "def mylistdir(directory, bit='', end=True):\n",
    "    filelist = os.listdir(directory)\n",
    "    if end:\n",
    "        return [x for x in filelist if x.endswith(f'{bit}')] and not x.endswith(f'v2')]\n",
    "    else:\n",
    "         return [x for x in filelist if x.startswith(f'{bit}')and not x.endswith(f'v2')]"
   ]
  },
  {
   "cell_type": "code",
   "execution_count": 97,
   "metadata": {},
   "outputs": [
    {
     "data": {
      "text/plain": [
       "['2019-03-12',\n",
       " '2019-03-13',\n",
       " '2019-03-14',\n",
       " '2019-03-15',\n",
       " '2019-03-16',\n",
       " '2019-03-17',\n",
       " '2019-03-18',\n",
       " '2019-03-19',\n",
       " '2019-03-20',\n",
       " '2019-03-21',\n",
       " '2019-03-22',\n",
       " '2019-03-23',\n",
       " '2019-03-24',\n",
       " '2019-03-25',\n",
       " '2019-03-26',\n",
       " '2019-03-27',\n",
       " '2019-03-28',\n",
       " '2019-03-29',\n",
       " '2019-03-30',\n",
       " '2019-03-31',\n",
       " '2019-04-01',\n",
       " '2019-04-02',\n",
       " 'RS1_images_v2']"
      ]
     },
     "execution_count": 97,
     "metadata": {},
     "output_type": "execute_result"
    }
   ],
   "source": [
    "mylistdir(H2_image_folder)"
   ]
  },
  {
   "cell_type": "code",
   "execution_count": 91,
   "metadata": {
    "collapsed": true,
    "jupyter": {
     "outputs_hidden": true
    }
   },
   "outputs": [
    {
     "data": {
      "text/plain": [
       "{'0000': 0,\n",
       " '0100': 0,\n",
       " '0200': 0,\n",
       " '0300': 0,\n",
       " '0400': 0,\n",
       " '0500': 0,\n",
       " '0600': 0,\n",
       " '0700': 0,\n",
       " '0800': 0,\n",
       " '0900': 0,\n",
       " '1000': 0,\n",
       " '1100': 0,\n",
       " '1200': 0,\n",
       " '1300': 0,\n",
       " '1400': 0,\n",
       " '1500': 0,\n",
       " '1600': 0,\n",
       " '1700': 0,\n",
       " '1800': 0,\n",
       " '1900': 0,\n",
       " '2000': 0,\n",
       " '2100': 0,\n",
       " '2200': 0,\n",
       " '2300': 0}"
      ]
     },
     "execution_count": 91,
     "metadata": {},
     "output_type": "execute_result"
    }
   ],
   "source": [
    "l = [str(x).zfill(2) + '00' for x in range(0,24)]\n",
    "{d:0 for d in l}"
   ]
  },
  {
   "cell_type": "code",
   "execution_count": 88,
   "metadata": {},
   "outputs": [
    {
     "name": "stdout",
     "output_type": "stream",
     "text": [
      "['2019-03-12', '2019-03-13', '2019-03-14', '2019-03-15', '2019-03-16', '2019-03-17', '2019-03-18', '2019-03-19', '2019-03-20', '2019-03-21', '2019-03-22', '2019-03-23', '2019-03-24', '2019-03-25', '2019-03-26', '2019-03-27', '2019-03-28', '2019-03-29', '2019-03-30', '2019-03-31', '2019-04-01', '2019-04-02']\n",
      "['2019-03-19', '2019-03-29']\n"
     ]
    }
   ],
   "source": [
    "H2_image_folder = '/Volumes/TOSHIBA-5/H2/RS1/img'\n",
    "days = mylistdir(H2_image_folder, '2019-', end=False)\n",
    "print(days)\n",
    "days2 = mylistdir(H2_image_folder, '9')\n",
    "print(days2)"
   ]
  },
  {
   "cell_type": "code",
   "execution_count": null,
   "metadata": {},
   "outputs": [],
   "source": [
    "H2_image_folder = '/Volumes/TOSHIBA-5/H2/RS1/img/'\n",
    "new_folder = '/Volumes/TOSHIBA-22/H2-red/RS1/img/'\n",
    "days = mylistdir(H2_image_folder, '2019-')\n",
    "size = [112,112]\n",
    "for day in days:\n",
    "    for hourmin in mylistdir(os.path.join(H2_image_folder, day), ''):\n",
    "        new_f = os.path.join(new_folder, day, hourmin)\n",
    "        resize_imgs(os.path.join(H2_image_folder, day, hourmin), size, new_f)"
   ]
  }
 ],
 "metadata": {
  "kernelspec": {
   "display_name": "Python 3",
   "language": "python",
   "name": "python3"
  },
  "language_info": {
   "codemirror_mode": {
    "name": "ipython",
    "version": 3
   },
   "file_extension": ".py",
   "mimetype": "text/x-python",
   "name": "python",
   "nbconvert_exporter": "python",
   "pygments_lexer": "ipython3",
   "version": "3.7.4"
  }
 },
 "nbformat": 4,
 "nbformat_minor": 4
}
