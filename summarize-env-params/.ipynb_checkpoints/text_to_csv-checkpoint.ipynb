{
 "cells": [
  {
   "cell_type": "markdown",
   "metadata": {},
   "source": [
    "This script reads in a text file (currently saved as a csv without delimiters) \n",
    "and outputs a csv in the correct format"
   ]
  },
  {
   "cell_type": "code",
   "execution_count": 1,
   "metadata": {},
   "outputs": [],
   "source": [
    "import os\n",
    "import sys\n",
    "import csv\n",
    "import ast\n",
    "import json\n",
    "from datetime import datetime\n",
    "import numpy as np\n",
    "import pandas as pd\n",
    "# import matplotlib.pyplot as plt\n",
    "# %matplotlib inline\n",
    "# from matplotlib.pyplot import figure\n",
    "# import matplotlib.dates as mdates\n",
    "# plt.rcParams.update({'font.size': 14})\n"
   ]
  },
  {
   "cell_type": "code",
   "execution_count": 50,
   "metadata": {},
   "outputs": [
    {
     "data": {
      "text/plain": [
       "' \\nLine format:\\n\\nGregor exited at April 1, 2019 at 01:56PM.\\n'"
      ]
     },
     "execution_count": 50,
     "metadata": {},
     "output_type": "execute_result"
    }
   ],
   "source": [
    "file_loc = '/Users/maggie/Desktop/Gregor-home-Round1.csv'\n",
    "store_loc = 'Users/maggie/Desktop'\n",
    "fname = 'Gregor-Round1-v2.csv'\n",
    "\n",
    "''' \n",
    "Line format:\n",
    "\n",
    "Gregor exited at April 1, 2019 at 01:56PM.\n",
    "'''"
   ]
  },
  {
   "cell_type": "code",
   "execution_count": 60,
   "metadata": {},
   "outputs": [],
   "source": [
    "def read_in_file():\n",
    "    with open(file_loc) as f:\n",
    "        with open(fname, 'w+') as new_f:\n",
    "            file_read = csv.reader(f, delimiter = ' ')\n",
    "            for r in [row[0] for row in file_read]:\n",
    "                row = r.strip('.').split(' ', maxsplit = 2)\n",
    "                new_file = csv.writer(new_f, delimiter = ',')\n",
    "                new_file.writerow(row)\n",
    "            \n",
    "            \n",
    "read_in_file()"
   ]
  },
  {
   "cell_type": "code",
   "execution_count": null,
   "metadata": {},
   "outputs": [],
   "source": []
  }
 ],
 "metadata": {
  "kernelspec": {
   "display_name": "Python 3",
   "language": "python",
   "name": "python3"
  },
  "language_info": {
   "codemirror_mode": {
    "name": "ipython",
    "version": 3
   },
   "file_extension": ".py",
   "mimetype": "text/x-python",
   "name": "python",
   "nbconvert_exporter": "python",
   "pygments_lexer": "ipython3",
   "version": "3.7.1"
  }
 },
 "nbformat": 4,
 "nbformat_minor": 2
}
